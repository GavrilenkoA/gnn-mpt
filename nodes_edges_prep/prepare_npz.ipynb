{
 "cells": [
  {
   "cell_type": "code",
   "execution_count": null,
   "metadata": {},
   "outputs": [],
   "source": [
    "import numpy as np\n",
    "import pandas as pd"
   ]
  },
  {
   "cell_type": "code",
   "execution_count": null,
   "metadata": {},
   "outputs": [],
   "source": [
    "pseudoseqs_pmt = pd.read_csv(\"./pmt_pmt/pseudoseqs.csv\", index_col=0)\n",
    "pseudoseqs_pm = pd.read_csv(\"./pm_iedbsame 2/pseudoseqs.csv\", index_col=0)"
   ]
  },
  {
   "cell_type": "code",
   "execution_count": null,
   "metadata": {},
   "outputs": [],
   "source": [
    "edges_pmt_train = pd.read_csv(\"./pmt_pmt/edges_pmt_train.csv\", index_col=0)\n",
    "edges_pmt_test = pd.read_csv(\"./pmt_pmt/edges_pmt_test.csv\", index_col=0)\n",
    "\n",
    "pseudoseqs = pd.read_csv(\"./pmt_pmt/pseudoseqs.csv\", index_col=0)\n",
    "peptides = pd.read_csv(\"./pmt_pmt/peptides.csv\", index_col=0)\n",
    "tcr = pd.read_csv(\"./pmt_pmt/tcr.csv\", index_col=0)"
   ]
  },
  {
   "cell_type": "code",
   "execution_count": null,
   "metadata": {},
   "outputs": [],
   "source": [
    "nodes_peptides = pd.read_csv(\"./pmt_pmt/nodes_peptides.csv\", index_col=0)\n",
    "print(nodes_peptides)\n",
    "\n",
    "peptides = pd.read_csv(\"./pmt_pmt/peptides.csv\", index_col=0)\n",
    "print(peptides)\n",
    "\n",
    "peptides.reset_index(inplace=True)\n",
    "peptides.rename(columns={\"peptides\": \"id\"}, inplace=True)\n",
    "\n",
    "merged_df = pd.merge(nodes_peptides, peptides, on=\"id\", how=\"inner\")\n",
    "print(merged_df)"
   ]
  },
  {
   "cell_type": "code",
   "execution_count": null,
   "metadata": {},
   "outputs": [],
   "source": [
    "data_columns = merged_df.columns.drop([\"id\", \"sequence\"])\n",
    "\n",
    "data_to_save = {}\n",
    "\n",
    "for index, row in merged_df.iterrows():\n",
    "    key = row[\"sequence\"]\n",
    "    value = row[data_columns].to_numpy()\n",
    "    data_to_save[key] = value\n",
    "\n",
    "\n",
    "# --- Save the data to a .npz file ---\n",
    "np.savez(\"peptides_data.npz\", **data_to_save)\n",
    "\n",
    "# Verifying the saved file\n",
    "loaded_data = np.load(\"peptides_data.npz\", allow_pickle=True)\n",
    "print(list(loaded_data.keys()))\n",
    "print(list(loaded_data.values()))"
   ]
  },
  {
   "cell_type": "code",
   "execution_count": null,
   "metadata": {},
   "outputs": [],
   "source": [
    "nodes_mhc = pd.read_csv(\"./pmt_pmt/nodes_mhc.csv\", index_col=0)\n",
    "print(nodes_mhc)\n",
    "\n",
    "pseudoseqs = pd.read_csv(\"./pmt_pmt/pseudoseqs.csv\", index_col=0)\n",
    "print(pseudoseqs)\n",
    "\n",
    "pseudoseqs.reset_index(inplace=True)\n",
    "pseudoseqs.rename(columns={\"mhc\": \"category\"}, inplace=True)\n",
    "print(pseudoseqs)\n",
    "\n",
    "merged_mhc = pd.merge(nodes_mhc, pseudoseqs, on=\"category\", how=\"inner\")\n",
    "print(merged_mhc)"
   ]
  },
  {
   "cell_type": "code",
   "execution_count": null,
   "metadata": {},
   "outputs": [],
   "source": [
    "data_columns_mhc = merged_mhc.columns.drop([\"id\", \"category\"])\n",
    "data_to_save = {}\n",
    "\n",
    "for index, row in merged_mhc.iterrows():\n",
    "    key = row[\"category\"]\n",
    "    value = row[data_columns_mhc].to_numpy()\n",
    "    data_to_save[key] = value\n",
    "\n",
    "\n",
    "# --- Save the data to a .npz file ---\n",
    "np.savez(\"mhc_data.npz\", **data_to_save)\n",
    "\n",
    "# Verifying the saved file\n",
    "loaded_data_mhc = np.load(\"mhc_data.npz\", allow_pickle=True)\n",
    "print(list(loaded_data_mhc.keys()))\n",
    "print(list(loaded_data_mhc.values()))\n",
    "loaded_data_mhc[\"HLA-B*35:02\"]"
   ]
  },
  {
   "cell_type": "code",
   "execution_count": null,
   "metadata": {},
   "outputs": [],
   "source": [
    "nodes_tcr = pd.read_csv(\"./pmt_pmt/nodes_tcr.csv\", index_col=0)\n",
    "print(nodes_tcr)\n",
    "print(tcr)\n",
    "\n",
    "tcr.reset_index(inplace=True)\n",
    "tcr.rename(columns={\"tcr\": \"id\"}, inplace=True)\n",
    "print(tcr)\n",
    "\n",
    "merged_tcr = pd.merge(nodes_tcr, tcr, on=\"id\", how=\"inner\")\n",
    "print(merged_tcr)"
   ]
  },
  {
   "cell_type": "code",
   "execution_count": null,
   "metadata": {},
   "outputs": [],
   "source": [
    "data_columns_tcr = merged_tcr.columns.drop([\"id\", \"sequence\"])\n",
    "data_to_save = {}\n",
    "\n",
    "\n",
    "for index, row in merged_tcr.iterrows():\n",
    "    key = row[\"sequence\"]\n",
    "    value = row[data_columns_tcr].to_numpy()\n",
    "    data_to_save[key] = value\n",
    "\n",
    "# --- Save the data to a .npz file ---\n",
    "np.savez(\"tcr_data.npz\", **data_to_save)\n",
    "\n",
    "# Verifying the saved file\n",
    "loaded_data_tcr = np.load(\"tcr_data.npz\", allow_pickle=True)\n",
    "print(\"Keys available in the .npz file:\", list(loaded_data_tcr.keys()))\n",
    "print(\"Keys available in the .npz file:\", list(loaded_data_tcr.values()))\n",
    "loaded_data_tcr[\"CASGGGGFQETQYF\"]"
   ]
  },
  {
   "cell_type": "code",
   "execution_count": null,
   "metadata": {},
   "outputs": [],
   "source": [
    "nodes_mhc\n",
    "nodes_mhc[\"mhc_name\"] = nodes_mhc[\"category\"].str.split(\"-\").str[0]"
   ]
  },
  {
   "cell_type": "code",
   "execution_count": null,
   "metadata": {},
   "outputs": [],
   "source": [
    "nodes_mhc"
   ]
  },
  {
   "cell_type": "code",
   "execution_count": null,
   "metadata": {},
   "outputs": [],
   "source": [
    "mhc_class_counts = nodes_mhc[\"mhc_name\"].value_counts()\n",
    "print(\"\\n--- MHC Class Counts ---\")\n",
    "print(mhc_class_counts)"
   ]
  }
 ],
 "metadata": {
  "kernelspec": {
   "display_name": "base",
   "language": "python",
   "name": "python3"
  },
  "language_info": {
   "codemirror_mode": {
    "name": "ipython",
    "version": 3
   },
   "file_extension": ".py",
   "mimetype": "text/x-python",
   "name": "python",
   "nbconvert_exporter": "python",
   "pygments_lexer": "ipython3",
   "version": "3.9.7"
  }
 },
 "nbformat": 4,
 "nbformat_minor": 2
}
