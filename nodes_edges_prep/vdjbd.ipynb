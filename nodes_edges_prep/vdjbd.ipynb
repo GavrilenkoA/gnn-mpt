{
 "cells": [
  {
   "cell_type": "code",
   "execution_count": null,
   "id": "83835d94",
   "metadata": {},
   "outputs": [],
   "source": [
    "import pandas as pd"
   ]
  },
  {
   "cell_type": "code",
   "execution_count": null,
   "id": "fb5497c6",
   "metadata": {},
   "outputs": [],
   "source": [
    "no_na_subset = pd.read_csv(\"./not_na_tcr_vdjdb.csv\")"
   ]
  },
  {
   "cell_type": "code",
   "execution_count": null,
   "id": "24b805e6-d1c9-429a-b3e5-09a016de9adc",
   "metadata": {},
   "outputs": [],
   "source": [
    "# теперь мерджим с эмбедами\n",
    "# from umap.umap_ import UMAP\n",
    "# tmp = no_na_subset[['id','sequence','embed']]\n",
    "\n",
    "\n",
    "seqs_pmt = pd.read_csv(\"./pmt_pmt/tcr.csv\", index_col=0)\n",
    "seqs_pmt.head()\n",
    "print(len(seqs_pmt))\n",
    "seqs_pmt"
   ]
  },
  {
   "cell_type": "code",
   "execution_count": null,
   "id": "70cd8167",
   "metadata": {},
   "outputs": [],
   "source": [
    "print(seqs_pmt)"
   ]
  },
  {
   "cell_type": "code",
   "execution_count": null,
   "id": "ad77e23b",
   "metadata": {},
   "outputs": [],
   "source": [
    "seqs_pmt.columns"
   ]
  },
  {
   "cell_type": "code",
   "execution_count": null,
   "id": "00a50674-4f79-401d-a976-ffd4de13867e",
   "metadata": {},
   "outputs": [],
   "source": [
    "values = []\n",
    "for index, row in seqs_pmt.iterrows():\n",
    "    value = row[seqs_pmt.columns[1:]].to_numpy()\n",
    "    values.append(value)\n",
    "values\n",
    "seqs_pmt[\"embeds_from_seq\"] = values\n",
    "seqs_pmt.reset_index(inplace=True)\n",
    "seqs_pmt = seqs_pmt[[\"tcr\", \"embeds_from_seq\"]]\n",
    "seqs_pmt.rename(columns={\"tcr\": \"id\"}, inplace=True)"
   ]
  },
  {
   "cell_type": "code",
   "execution_count": null,
   "id": "8d6ef270-76be-4629-b8b9-89fadaf9dd16",
   "metadata": {},
   "outputs": [],
   "source": [
    "no_na_subset.drop(\"id\", axis=1, inplace=True)\n",
    "nodes = pd.read_csv(\"./pmt_pmt/nodes_tcr.csv\")\n",
    "nodes.drop(\"Unnamed: 0\", inplace=True, axis=1)\n",
    "nodes\n",
    "# seqs_pmt = pd.merge(seqs_pmt, )"
   ]
  },
  {
   "cell_type": "code",
   "execution_count": null,
   "id": "1cbfacf2-b342-47c7-b30e-47d24e133450",
   "metadata": {},
   "outputs": [],
   "source": [
    "seqs_pmt = pd.merge(nodes, seqs_pmt, on=\"id\", how=\"left\")\n",
    "no_na_subset = pd.merge(no_na_subset, seqs_pmt, on=\"sequence\", how=\"left\")\n",
    "nodes.drop(\"Unnamed: 0\", inplace=True, axis=1)\n",
    "no_na_subset\n",
    "no_na_subset.to_csv(\"tcr_no_na_with_embeds.csv\")"
   ]
  },
  {
   "cell_type": "code",
   "execution_count": null,
   "id": "18f748db-5c22-4e97-be49-e65ad6cb61e8",
   "metadata": {},
   "outputs": [],
   "source": [
    "no_na_subset_ = no_na_subset[\n",
    "    no_na_subset[[\"Gene\", \"V\", \"J\", \"Species\", \"Epitope species\"]].notna().all(axis=1)\n",
    "]\n",
    "no_na_subset_.drop(columns={\"Unnamed: 0\"}, axis=1, inplace=True)\n",
    "no_na_subset_.to_csv(\"no_na_tcr_subset_with_embeds_from_seq.csv\", index=False)\n",
    "no_na_subset_"
   ]
  },
  {
   "cell_type": "code",
   "execution_count": null,
   "id": "5212544c",
   "metadata": {},
   "outputs": [],
   "source": [
    "columns_to_check = [\"Gene\", \"V\", \"J\", \"Species\", \"Epitope species\"]\n",
    "no_na_subset_dropna = no_na_subset.dropna(subset=columns_to_check)"
   ]
  },
  {
   "cell_type": "code",
   "execution_count": null,
   "id": "3a3c9fb6",
   "metadata": {},
   "outputs": [],
   "source": [
    "print(no_na_subset_dropna)\n",
    "no_na_subset_dropna\n",
    "no_na_subset_dropna.to_csv()"
   ]
  },
  {
   "cell_type": "code",
   "execution_count": null,
   "id": "5631b53d",
   "metadata": {},
   "outputs": [],
   "source": [
    "no_na_subset_dropna.isna().any().sum()"
   ]
  }
 ],
 "metadata": {
  "kernelspec": {
   "display_name": "base",
   "language": "python",
   "name": "python3"
  },
  "language_info": {
   "codemirror_mode": {
    "name": "ipython",
    "version": 3
   },
   "file_extension": ".py",
   "mimetype": "text/x-python",
   "name": "python",
   "nbconvert_exporter": "python",
   "pygments_lexer": "ipython3",
   "version": "3.9.7"
  }
 },
 "nbformat": 4,
 "nbformat_minor": 5
}
