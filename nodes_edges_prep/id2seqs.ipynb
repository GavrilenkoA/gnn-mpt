{
 "cells": [
  {
   "cell_type": "code",
   "execution_count": null,
   "metadata": {},
   "outputs": [],
   "source": [
    "import pandas as pd\n",
    "\n",
    "edges_pt = pd.read_csv(\"./pmt_pmt/edges_pt.csv\", index_col=0)\n",
    "print(edges_pt)"
   ]
  },
  {
   "cell_type": "code",
   "execution_count": null,
   "metadata": {},
   "outputs": [],
   "source": [
    "nodes_peptides = pd.read_csv(\"./pmt_pmt/nodes_peptides.csv\", index_col=0)\n",
    "nodes_peptides.rename(columns={\"id\": \"Peptide\"}, inplace=True)\n",
    "print(nodes_peptides)\n",
    "\n",
    "nodes_tcr = pd.read_csv(\"./pmt_pmt/nodes_tcr.csv\", index_col=0)\n",
    "nodes_tcr.rename(columns={\"id\": \"TCR\"}, inplace=True)\n",
    "print(nodes_tcr)"
   ]
  },
  {
   "cell_type": "code",
   "execution_count": null,
   "metadata": {},
   "outputs": [],
   "source": [
    "merged_df_p = pd.merge(edges_pt, nodes_peptides, on=\"Peptide\", how=\"inner\")\n",
    "merged_df_p.drop(\"Peptide\", axis=1, inplace=True)\n",
    "merged_df_p.rename(columns={\"sequence\": \"Peptide\"}, inplace=True)\n",
    "merged_df_all = pd.merge(merged_df_p, nodes_tcr, on=\"TCR\", how=\"inner\")\n",
    "merged_df_all.drop(\"TCR\", axis=1, inplace=True)\n",
    "merged_df_all.rename(columns={\"sequence\": \"TCR\"}, inplace=True)\n",
    "print(merged_df_all)"
   ]
  },
  {
   "cell_type": "code",
   "execution_count": null,
   "metadata": {},
   "outputs": [],
   "source": [
    "merged_df_all.to_csv(\"edges_pt_seq.csv\", index=False)"
   ]
  },
  {
   "cell_type": "code",
   "execution_count": null,
   "metadata": {},
   "outputs": [],
   "source": [
    "testing_data = pd.read_csv(\"./pmt_pmt/raw/testing_data.csv\", index_col=0)\n",
    "testing_data.reset_index(inplace=True)\n",
    "print(testing_data)"
   ]
  },
  {
   "cell_type": "code",
   "execution_count": null,
   "metadata": {},
   "outputs": [],
   "source": [
    "# --- filter merged_df_all to remove the test data pairs ---\n",
    "testing_data[\"key\"] = list(zip(testing_data[\"Antigen\"], testing_data[\"CDR3\"]))\n",
    "merged_df_all[\"key\"] = list(zip(merged_df_all[\"Peptide\"], merged_df_all[\"TCR\"]))\n",
    "\n",
    "filtered_df = merged_df_all[~merged_df_all[\"key\"].isin(testing_data[\"key\"])]\n",
    "filtered_df = filtered_df.drop(\"key\", axis=1)\n",
    "\n",
    "print(merged_df_all.shape)\n",
    "print(filtered_df)"
   ]
  },
  {
   "cell_type": "code",
   "execution_count": null,
   "metadata": {},
   "outputs": [],
   "source": [
    "filtered_df.to_csv(\"edges_pt_seq_filt.csv\", index=False)"
   ]
  },
  {
   "cell_type": "code",
   "execution_count": null,
   "metadata": {},
   "outputs": [],
   "source": [
    "edges_pm = pd.read_csv(\"./pmt_pmt/edges_pm.csv\", index_col=0)\n",
    "print(edges_pm)"
   ]
  },
  {
   "cell_type": "code",
   "execution_count": null,
   "metadata": {},
   "outputs": [],
   "source": [
    "nodes_peptides = pd.read_csv(\"./pmt_pmt/nodes_peptides.csv\", index_col=0)\n",
    "nodes_peptides.rename(columns={\"id\": \"Peptide\"}, inplace=True)\n",
    "print(nodes_peptides)\n",
    "\n",
    "nodes_mhc = pd.read_csv(\"./pmt_pmt/nodes_mhc.csv\", index_col=0)\n",
    "nodes_mhc.rename(columns={\"id\": \"MHC\"}, inplace=True)\n",
    "print(nodes_mhc)"
   ]
  },
  {
   "cell_type": "code",
   "execution_count": null,
   "metadata": {},
   "outputs": [],
   "source": [
    "merged_df_m = pd.merge(edges_pm, nodes_mhc, on=\"MHC\", how=\"inner\")\n",
    "merged_df_m.drop(\"MHC\", axis=1, inplace=True)\n",
    "merged_df_m.rename(columns={\"sequence\": \"MHC\"}, inplace=True)\n",
    "merged_df_all = pd.merge(merged_df_m, nodes_peptides, on=\"Peptide\", how=\"inner\")\n",
    "merged_df_all.drop(\"Peptide\", axis=1, inplace=True)\n",
    "merged_df_all.rename(columns={\"sequence\": \"Peptide\"}, inplace=True)\n",
    "print(merged_df_all)"
   ]
  },
  {
   "cell_type": "code",
   "execution_count": null,
   "metadata": {},
   "outputs": [],
   "source": [
    "merged_df_all.to_csv(\"edges_pm_seq.csv\", index=False)"
   ]
  },
  {
   "cell_type": "code",
   "execution_count": null,
   "metadata": {},
   "outputs": [],
   "source": [
    "testing_data = pd.read_csv(\"./pmt_pmt/raw/testing_data.csv\", index_col=0)\n",
    "testing_data.reset_index(inplace=True)\n",
    "print(testing_data)"
   ]
  },
  {
   "cell_type": "code",
   "execution_count": null,
   "metadata": {},
   "outputs": [],
   "source": [
    "# --- filter merged_df_all to remove the test data pairs ---\n",
    "testing_data[\"key\"] = list(zip(testing_data[\"Antigen\"], testing_data[\"HLA\"]))\n",
    "merged_df_all[\"key\"] = list(zip(merged_df_all[\"Peptide\"], merged_df_all[\"category\"]))\n",
    "\n",
    "filtered_df = merged_df_all[~merged_df_all[\"key\"].isin(testing_data[\"key\"])]\n",
    "filtered_df = filtered_df.drop(\"key\", axis=1)\n",
    "\n",
    "print(merged_df_all.shape)\n",
    "print(filtered_df)"
   ]
  },
  {
   "cell_type": "code",
   "execution_count": null,
   "metadata": {},
   "outputs": [],
   "source": [
    "filtered_df.to_csv(\"edges_pm_seq_filt.csv\", index=False)"
   ]
  }
 ],
 "metadata": {
  "kernelspec": {
   "display_name": "base",
   "language": "python",
   "name": "python3"
  },
  "language_info": {
   "codemirror_mode": {
    "name": "ipython",
    "version": 3
   },
   "file_extension": ".py",
   "mimetype": "text/x-python",
   "name": "python",
   "nbconvert_exporter": "python",
   "pygments_lexer": "ipython3",
   "version": "3.9.7"
  }
 },
 "nbformat": 4,
 "nbformat_minor": 2
}
